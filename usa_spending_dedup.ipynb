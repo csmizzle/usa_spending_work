{
 "cells": [
  {
   "cell_type": "markdown",
   "metadata": {},
   "source": [
    "## Tamr Take Home - Chris Smith"
   ]
  },
  {
   "cell_type": "code",
   "execution_count": 2,
   "metadata": {},
   "outputs": [],
   "source": [
    "import pandas as pd\n",
    "from tools import FuzzPipe, FuzzyUSA\n",
    "from pprint import pprint"
   ]
  },
  {
   "cell_type": "markdown",
   "metadata": {},
   "source": [
    "## How many distinct suppliers are there in the USA spend dataset?\n",
    "- Number of initial records.\n",
    "- Number of records after reducing based on exact supplier/vendor matches.\n",
    "- Number of records after reducing further based on “fuzzy” matching criteria. This should\n",
    "    group together records where the same supplier had slightly different names (such as\n",
    "    “W.W. Grainger” and “WW Grainger” or “IBM” and “International Business Machines”).\n",
    "    Some of the fuzzy matching logic might also mean matching across columns such as\n",
    "    matching vendorname with vendoralternatename. Fields like phonenumber,\n",
    "    streetaddress, city, state, and dunsnumber can also provide useful signals.\n",
    "- Some measure(s) of accuracy with explanations."
   ]
  },
  {
   "cell_type": "code",
   "execution_count": 3,
   "metadata": {},
   "outputs": [],
   "source": [
    "# pick which file to analyze\n",
    "file_name = './data/all_2021.csv'"
   ]
  },
  {
   "cell_type": "code",
   "execution_count": 4,
   "metadata": {},
   "outputs": [
    {
     "name": "stderr",
     "output_type": "stream",
     "text": [
      "/Users/csmizzle/Library/Caches/pypoetry/virtualenvs/usa-spending-AGbi8R_O-py3.9/lib/python3.9/site-packages/IPython/core/interactiveshell.py:3251: DtypeWarning: Columns (5,44,45,50,63,64,71,103,123,124,153) have mixed types.Specify dtype option on import or set low_memory=False.\n",
      "  exec(code_obj, self.user_global_ns, self.user_ns)\n"
     ]
    }
   ],
   "source": [
    "df = pd.read_csv(file_name)"
   ]
  },
  {
   "cell_type": "markdown",
   "metadata": {},
   "source": [
    "### Which fields have suitable cardinality?\n",
    "- Can we target a field that has minimal missing values but also gives us a solid identifier for each company?\n",
    "- DUNS is a likely candidate of the top of my head\n",
    "- Looking for good mix of cardinality and low missing values"
   ]
  },
  {
   "cell_type": "code",
   "execution_count": 5,
   "metadata": {},
   "outputs": [],
   "source": [
    "counts = pd.DataFrame(df.nunique()).reset_index(drop=False).rename(columns={'index': 'col', 0: 'count'})"
   ]
  },
  {
   "cell_type": "code",
   "execution_count": 6,
   "metadata": {},
   "outputs": [
    {
     "data": {
      "text/html": [
       "<div>\n",
       "<style scoped>\n",
       "    .dataframe tbody tr th:only-of-type {\n",
       "        vertical-align: middle;\n",
       "    }\n",
       "\n",
       "    .dataframe tbody tr th {\n",
       "        vertical-align: top;\n",
       "    }\n",
       "\n",
       "    .dataframe thead th {\n",
       "        text-align: right;\n",
       "    }\n",
       "</style>\n",
       "<table border=\"1\" class=\"dataframe\">\n",
       "  <thead>\n",
       "    <tr style=\"text-align: right;\">\n",
       "      <th></th>\n",
       "      <th>col</th>\n",
       "      <th>count</th>\n",
       "    </tr>\n",
       "  </thead>\n",
       "  <tbody>\n",
       "    <tr>\n",
       "      <th>132</th>\n",
       "      <td>small_business_competitiveness_demonstration_p...</td>\n",
       "      <td>1</td>\n",
       "    </tr>\n",
       "    <tr>\n",
       "      <th>19</th>\n",
       "      <td>action_date_fiscal_year</td>\n",
       "      <td>1</td>\n",
       "    </tr>\n",
       "    <tr>\n",
       "      <th>204</th>\n",
       "      <td>emerging_small_business</td>\n",
       "      <td>2</td>\n",
       "    </tr>\n",
       "    <tr>\n",
       "      <th>197</th>\n",
       "      <td>asian_pacific_american_owned_business</td>\n",
       "      <td>2</td>\n",
       "    </tr>\n",
       "    <tr>\n",
       "      <th>198</th>\n",
       "      <td>black_american_owned_business</td>\n",
       "      <td>2</td>\n",
       "    </tr>\n",
       "    <tr>\n",
       "      <th>199</th>\n",
       "      <td>hispanic_american_owned_business</td>\n",
       "      <td>2</td>\n",
       "    </tr>\n",
       "    <tr>\n",
       "      <th>200</th>\n",
       "      <td>native_american_owned_business</td>\n",
       "      <td>2</td>\n",
       "    </tr>\n",
       "    <tr>\n",
       "      <th>201</th>\n",
       "      <td>other_minority_owned_business</td>\n",
       "      <td>2</td>\n",
       "    </tr>\n",
       "    <tr>\n",
       "      <th>79</th>\n",
       "      <td>multiple_or_single_award_idv</td>\n",
       "      <td>2</td>\n",
       "    </tr>\n",
       "    <tr>\n",
       "      <th>78</th>\n",
       "      <td>multiple_or_single_award_idv_code</td>\n",
       "      <td>2</td>\n",
       "    </tr>\n",
       "  </tbody>\n",
       "</table>\n",
       "</div>"
      ],
      "text/plain": [
       "                                                   col  count\n",
       "132  small_business_competitiveness_demonstration_p...      1\n",
       "19                             action_date_fiscal_year      1\n",
       "204                            emerging_small_business      2\n",
       "197              asian_pacific_american_owned_business      2\n",
       "198                      black_american_owned_business      2\n",
       "199                   hispanic_american_owned_business      2\n",
       "200                     native_american_owned_business      2\n",
       "201                      other_minority_owned_business      2\n",
       "79                        multiple_or_single_award_idv      2\n",
       "78                   multiple_or_single_award_idv_code      2"
      ]
     },
     "execution_count": 6,
     "metadata": {},
     "output_type": "execute_result"
    }
   ],
   "source": [
    "counts.sort_values(by='count', ascending=True).head(10)"
   ]
  },
  {
   "cell_type": "code",
   "execution_count": 7,
   "metadata": {},
   "outputs": [],
   "source": [
    "# let's filter out boolean fields\n",
    "counts = counts[counts['count'] > 2]"
   ]
  },
  {
   "cell_type": "code",
   "execution_count": 8,
   "metadata": {},
   "outputs": [],
   "source": [
    "# check out top 10 percent\n",
    "top_10 = counts[counts['count'] >= counts['count'].quantile(.9)]"
   ]
  },
  {
   "cell_type": "code",
   "execution_count": 9,
   "metadata": {},
   "outputs": [
    {
     "data": {
      "text/html": [
       "<div>\n",
       "<style scoped>\n",
       "    .dataframe tbody tr th:only-of-type {\n",
       "        vertical-align: middle;\n",
       "    }\n",
       "\n",
       "    .dataframe tbody tr th {\n",
       "        vertical-align: top;\n",
       "    }\n",
       "\n",
       "    .dataframe thead th {\n",
       "        text-align: right;\n",
       "    }\n",
       "</style>\n",
       "<table border=\"1\" class=\"dataframe\">\n",
       "  <thead>\n",
       "    <tr style=\"text-align: right;\">\n",
       "      <th></th>\n",
       "      <th>col</th>\n",
       "      <th>count</th>\n",
       "    </tr>\n",
       "  </thead>\n",
       "  <tbody>\n",
       "    <tr>\n",
       "      <th>0</th>\n",
       "      <td>contract_transaction_unique_key</td>\n",
       "      <td>6350210</td>\n",
       "    </tr>\n",
       "    <tr>\n",
       "      <th>1</th>\n",
       "      <td>contract_award_unique_key</td>\n",
       "      <td>5639541</td>\n",
       "    </tr>\n",
       "    <tr>\n",
       "      <th>2</th>\n",
       "      <td>award_id_piid</td>\n",
       "      <td>5611228</td>\n",
       "    </tr>\n",
       "    <tr>\n",
       "      <th>9</th>\n",
       "      <td>federal_action_obligation</td>\n",
       "      <td>1324880</td>\n",
       "    </tr>\n",
       "    <tr>\n",
       "      <th>10</th>\n",
       "      <td>total_dollars_obligated</td>\n",
       "      <td>1394468</td>\n",
       "    </tr>\n",
       "    <tr>\n",
       "      <th>11</th>\n",
       "      <td>base_and_exercised_options_value</td>\n",
       "      <td>1288787</td>\n",
       "    </tr>\n",
       "    <tr>\n",
       "      <th>12</th>\n",
       "      <td>current_total_value_of_award</td>\n",
       "      <td>1370041</td>\n",
       "    </tr>\n",
       "    <tr>\n",
       "      <th>13</th>\n",
       "      <td>base_and_all_options_value</td>\n",
       "      <td>1262537</td>\n",
       "    </tr>\n",
       "    <tr>\n",
       "      <th>14</th>\n",
       "      <td>potential_total_value_of_award</td>\n",
       "      <td>1394595</td>\n",
       "    </tr>\n",
       "    <tr>\n",
       "      <th>45</th>\n",
       "      <td>recipient_duns</td>\n",
       "      <td>116593</td>\n",
       "    </tr>\n",
       "    <tr>\n",
       "      <th>47</th>\n",
       "      <td>recipient_name</td>\n",
       "      <td>118043</td>\n",
       "    </tr>\n",
       "    <tr>\n",
       "      <th>55</th>\n",
       "      <td>recipient_address_line_1</td>\n",
       "      <td>124156</td>\n",
       "    </tr>\n",
       "    <tr>\n",
       "      <th>63</th>\n",
       "      <td>recipient_phone_number</td>\n",
       "      <td>200177</td>\n",
       "    </tr>\n",
       "    <tr>\n",
       "      <th>71</th>\n",
       "      <td>primary_place_of_performance_zip_4</td>\n",
       "      <td>170402</td>\n",
       "    </tr>\n",
       "    <tr>\n",
       "      <th>84</th>\n",
       "      <td>award_description</td>\n",
       "      <td>4523865</td>\n",
       "    </tr>\n",
       "    <tr>\n",
       "      <th>87</th>\n",
       "      <td>solicitation_identifier</td>\n",
       "      <td>565474</td>\n",
       "    </tr>\n",
       "    <tr>\n",
       "      <th>282</th>\n",
       "      <td>usaspending_permalink</td>\n",
       "      <td>5639541</td>\n",
       "    </tr>\n",
       "    <tr>\n",
       "      <th>283</th>\n",
       "      <td>last_modified_date</td>\n",
       "      <td>3052218</td>\n",
       "    </tr>\n",
       "  </tbody>\n",
       "</table>\n",
       "</div>"
      ],
      "text/plain": [
       "                                    col    count\n",
       "0       contract_transaction_unique_key  6350210\n",
       "1             contract_award_unique_key  5639541\n",
       "2                         award_id_piid  5611228\n",
       "9             federal_action_obligation  1324880\n",
       "10              total_dollars_obligated  1394468\n",
       "11     base_and_exercised_options_value  1288787\n",
       "12         current_total_value_of_award  1370041\n",
       "13           base_and_all_options_value  1262537\n",
       "14       potential_total_value_of_award  1394595\n",
       "45                       recipient_duns   116593\n",
       "47                       recipient_name   118043\n",
       "55             recipient_address_line_1   124156\n",
       "63               recipient_phone_number   200177\n",
       "71   primary_place_of_performance_zip_4   170402\n",
       "84                    award_description  4523865\n",
       "87              solicitation_identifier   565474\n",
       "282               usaspending_permalink  5639541\n",
       "283                  last_modified_date  3052218"
      ]
     },
     "execution_count": 9,
     "metadata": {},
     "output_type": "execute_result"
    }
   ],
   "source": [
    "top_10"
   ]
  },
  {
   "cell_type": "markdown",
   "metadata": {},
   "source": [
    "DUNs looks intriguing!"
   ]
  },
  {
   "cell_type": "markdown",
   "metadata": {},
   "source": [
    "### Which fields don't have much missing data?"
   ]
  },
  {
   "cell_type": "code",
   "execution_count": 10,
   "metadata": {},
   "outputs": [],
   "source": [
    "missing_values = pd.DataFrame(df.isna().sum()).reset_index(drop=False).rename(columns={'index': 'col', 0: 'count'})\n",
    "# let's filter out boolean fields as those won;t be much help for our problem set\n",
    "# lets start with fields that have 0 missing values\n",
    "no_missing = missing_values[missing_values['count'] == 0]"
   ]
  },
  {
   "cell_type": "code",
   "execution_count": 11,
   "metadata": {},
   "outputs": [],
   "source": [
    "no_missing_low_card = pd.merge(\n",
    "    left=top_10,\n",
    "    right=no_missing,\n",
    "    left_on='col',\n",
    "    right_on='col',\n",
    "    how='inner'\n",
    ")"
   ]
  },
  {
   "cell_type": "code",
   "execution_count": 12,
   "metadata": {},
   "outputs": [
    {
     "data": {
      "text/html": [
       "<div>\n",
       "<style scoped>\n",
       "    .dataframe tbody tr th:only-of-type {\n",
       "        vertical-align: middle;\n",
       "    }\n",
       "\n",
       "    .dataframe tbody tr th {\n",
       "        vertical-align: top;\n",
       "    }\n",
       "\n",
       "    .dataframe thead th {\n",
       "        text-align: right;\n",
       "    }\n",
       "</style>\n",
       "<table border=\"1\" class=\"dataframe\">\n",
       "  <thead>\n",
       "    <tr style=\"text-align: right;\">\n",
       "      <th></th>\n",
       "      <th>col</th>\n",
       "      <th>count_x</th>\n",
       "      <th>count_y</th>\n",
       "    </tr>\n",
       "  </thead>\n",
       "  <tbody>\n",
       "    <tr>\n",
       "      <th>7</th>\n",
       "      <td>recipient_duns</td>\n",
       "      <td>116593</td>\n",
       "      <td>0</td>\n",
       "    </tr>\n",
       "    <tr>\n",
       "      <th>5</th>\n",
       "      <td>base_and_all_options_value</td>\n",
       "      <td>1262537</td>\n",
       "      <td>0</td>\n",
       "    </tr>\n",
       "    <tr>\n",
       "      <th>3</th>\n",
       "      <td>federal_action_obligation</td>\n",
       "      <td>1324880</td>\n",
       "      <td>0</td>\n",
       "    </tr>\n",
       "    <tr>\n",
       "      <th>4</th>\n",
       "      <td>total_dollars_obligated</td>\n",
       "      <td>1394468</td>\n",
       "      <td>0</td>\n",
       "    </tr>\n",
       "    <tr>\n",
       "      <th>6</th>\n",
       "      <td>potential_total_value_of_award</td>\n",
       "      <td>1394595</td>\n",
       "      <td>0</td>\n",
       "    </tr>\n",
       "    <tr>\n",
       "      <th>9</th>\n",
       "      <td>last_modified_date</td>\n",
       "      <td>3052218</td>\n",
       "      <td>0</td>\n",
       "    </tr>\n",
       "    <tr>\n",
       "      <th>2</th>\n",
       "      <td>award_id_piid</td>\n",
       "      <td>5611228</td>\n",
       "      <td>0</td>\n",
       "    </tr>\n",
       "    <tr>\n",
       "      <th>1</th>\n",
       "      <td>contract_award_unique_key</td>\n",
       "      <td>5639541</td>\n",
       "      <td>0</td>\n",
       "    </tr>\n",
       "    <tr>\n",
       "      <th>8</th>\n",
       "      <td>usaspending_permalink</td>\n",
       "      <td>5639541</td>\n",
       "      <td>0</td>\n",
       "    </tr>\n",
       "    <tr>\n",
       "      <th>0</th>\n",
       "      <td>contract_transaction_unique_key</td>\n",
       "      <td>6350210</td>\n",
       "      <td>0</td>\n",
       "    </tr>\n",
       "  </tbody>\n",
       "</table>\n",
       "</div>"
      ],
      "text/plain": [
       "                               col  count_x  count_y\n",
       "7                   recipient_duns   116593        0\n",
       "5       base_and_all_options_value  1262537        0\n",
       "3        federal_action_obligation  1324880        0\n",
       "4          total_dollars_obligated  1394468        0\n",
       "6   potential_total_value_of_award  1394595        0\n",
       "9               last_modified_date  3052218        0\n",
       "2                    award_id_piid  5611228        0\n",
       "1        contract_award_unique_key  5639541        0\n",
       "8            usaspending_permalink  5639541        0\n",
       "0  contract_transaction_unique_key  6350210        0"
      ]
     },
     "execution_count": 12,
     "metadata": {},
     "output_type": "execute_result"
    }
   ],
   "source": [
    "no_missing_low_card.sort_values(by='count_x')"
   ]
  },
  {
   "cell_type": "code",
   "execution_count": 13,
   "metadata": {},
   "outputs": [],
   "source": [
    "duns_count = no_missing_low_card[no_missing_low_card.col == 'recipient_duns']['count_x'].values[0]"
   ]
  },
  {
   "cell_type": "markdown",
   "metadata": {},
   "source": [
    "#### Looks like DUNs is an ideal field to groupby on\n",
    "- No missing values\n",
    "- Suitable cardinality\n",
    "- Unique identifer\n",
    "- We can unify records on that key with minimal data loss\n",
    "\n",
    "Lets clean up the recipient dataset and drop any duplicates that have like string fields\n",
    "\n",
    "Goal is to get as close DUNs unique records and then scale the analysis up with more data\n",
    "\n",
    "Let's subset all columns with that are dealing recipients and use DUNs as our primary indentifier"
   ]
  },
  {
   "cell_type": "code",
   "execution_count": 14,
   "metadata": {},
   "outputs": [
    {
     "data": {
      "text/plain": [
       "['recipient_duns',\n",
       " 'recipient_uei',\n",
       " 'recipient_name',\n",
       " 'recipient_doing_business_as_name',\n",
       " 'recipient_parent_duns',\n",
       " 'recipient_parent_uei',\n",
       " 'recipient_parent_name',\n",
       " 'recipient_country_code',\n",
       " 'recipient_country_name',\n",
       " 'recipient_address_line_1',\n",
       " 'recipient_address_line_2',\n",
       " 'recipient_city_name',\n",
       " 'recipient_county_name',\n",
       " 'recipient_state_code',\n",
       " 'recipient_state_name',\n",
       " 'recipient_zip_4_code',\n",
       " 'recipient_congressional_district',\n",
       " 'recipient_phone_number',\n",
       " 'recipient_fax_number']"
      ]
     },
     "execution_count": 14,
     "metadata": {},
     "output_type": "execute_result"
    }
   ],
   "source": [
    "larger_recip_data = [\n",
    "    col for col in df.columns\n",
    "    if str(col).startswith('recipient')\n",
    "]\n",
    "larger_recip_data"
   ]
  },
  {
   "cell_type": "code",
   "execution_count": 15,
   "metadata": {},
   "outputs": [],
   "source": [
    "recip_data = df[larger_recip_data]"
   ]
  },
  {
   "cell_type": "markdown",
   "metadata": {},
   "source": [
    "### Workflow is broken into two main classes\n",
    "These classes are logical groupings of dataframe operations using DUNs to group like records together\n",
    "- FuzzPipe -> simple cleaning and deduping\n",
    "    - Normalize data into string format\n",
    "        - Strip trailing zeros from float from string fields\n",
    "        - Dedup identical records from string fields\n",
    "    - Establish a UID (in our case DUNs) and use that to find ids with with repeats values for our UID\n",
    "        - In our case, we are looking for DUNs with multiple names still associated with them\n",
    "    - Filter to fields with both single and multi UIDs for down stream fuzzy matching and joining into golden table\n",
    "- FuzzyUSA -> Fuzzy matching based on multiple fields on our UID\n",
    "    - Take data with multiple values for a UID field (DUNs)\n",
    "    - Group those values into look up table to increase performance and elimiate long looping\n",
    "    - Convert fields to string to be evaluated by fuzzy matching algorithm `rapidfuzz`\n",
    "        - Using simple ratio for now (could test other approaches or ensemble together)\n",
    "        - Simple Ratio -> ratio of characters shared between comparison\n",
    "    - Score like values against first record\n",
    "        - If average score is greater than 90 for subset based UID, use first record (this can be improved, works for now)\n",
    "        - Generate `match_report` off of FuzzyUSA for analysis\n",
    "    - Return unifed records based on evaluation"
   ]
  },
  {
   "cell_type": "code",
   "execution_count": 16,
   "metadata": {},
   "outputs": [],
   "source": [
    "pipe = FuzzPipe(recip_data)"
   ]
  },
  {
   "cell_type": "code",
   "execution_count": 17,
   "metadata": {
    "scrolled": true
   },
   "outputs": [
    {
     "name": "stdout",
     "output_type": "stream",
     "text": [
      "[!] Original size: 6350210\n",
      "[!] Dedup on string fields size: 176001\n",
      "[!] Multi IDs: 90831\n",
      "[!] Single IDs: 85170\n"
     ]
    }
   ],
   "source": [
    "multi_duns, single_duns = pipe.run(\n",
    "    group_id='recipient_duns',\n",
    "    count_field='recipient_name'\n",
    ")"
   ]
  },
  {
   "cell_type": "code",
   "execution_count": 18,
   "metadata": {},
   "outputs": [
    {
     "name": "stdout",
     "output_type": "stream",
     "text": [
      "[!] Length before resolving: 90831\n"
     ]
    },
    {
     "name": "stderr",
     "output_type": "stream",
     "text": [
      "100%|██████████| 30593/30593 [00:00<00:00, 34624.54it/s]\n"
     ]
    },
    {
     "name": "stdout",
     "output_type": "stream",
     "text": [
      "[!] Missing keys: 0\n",
      "[!] Length after resolving: 30593\n"
     ]
    }
   ],
   "source": [
    "fuzzer = FuzzyUSA(multi_duns)\n",
    "deduped = fuzzer.fuzz_match(\n",
    "    key_label='recipient_duns',\n",
    "    fuzz_fields=list(multi_duns.columns)\n",
    ")"
   ]
  },
  {
   "cell_type": "code",
   "execution_count": 19,
   "metadata": {},
   "outputs": [
    {
     "name": "stdout",
     "output_type": "stream",
     "text": [
      "[{'compare': '7914906 * KABZK8W6PQT3 * AMERISOURCEBERGEN DRUG CORPORATION * '\n",
      "             'nan * 3927759 * NWEGNLYTBDW4 * AMERISOURCEBERGEN CORPORATION * '\n",
      "             'USA * UNITED STATES * 1300 MORRIS DR STE 1 * nan * CHESTERBROOK '\n",
      "             '* CHESTER * PA * PENNSYLVANIA * 190875559 * nan * 8002708464 * '\n",
      "             '804553104 * ',\n",
      "  'compared': '7914906 * KABZK8W6PQT3 * AMERISOURCEBERGEN DRUG CORPORATION * '\n",
      "              'nan * 3927759 * NWEGNLYTBDW4 * AMERISOURCEBERGEN CORPORATION * '\n",
      "              'USA * UNITED STATES * 1300 MORRIS DR STE 1 * nan * CHESTERBROOK '\n",
      "              '* CHESTER * PA * PENNSYLVANIA * 190875559 * nan * 6238263181 * '\n",
      "              'nan * ',\n",
      "  'match': 95.01915708812261},\n",
      " {'compare': '7914906 * KABZK8W6PQT3 * AMERISOURCEBERGEN DRUG CORPORATION * '\n",
      "             'nan * 3927759 * NWEGNLYTBDW4 * AMERISOURCEBERGEN CORPORATION * '\n",
      "             'USA * UNITED STATES * 1300 MORRIS DR STE 1 * nan * CHESTERBROOK '\n",
      "             '* CHESTER * PA * PENNSYLVANIA * 190875559 * nan * 8002708464 * '\n",
      "             '804553104 * ',\n",
      "  'compared': '7914906 * KABZK8W6PQT3 * AMERISOURCEBERGEN DRUG CORPORATION * '\n",
      "              'nan * 3927759 * NWEGNLYTBDW4 * AMERISOURCEBERGEN CORPORATION * '\n",
      "              'USA * UNITED STATES * 1300 MORRIS DR STE 1 * nan * CHESTERBROOK '\n",
      "              '* CHESTER * PA * PENNSYLVANIA * 190875559 * 6 * 8002708464 * '\n",
      "              '804553104 * ',\n",
      "  'match': 99.23954372623574},\n",
      " {'compare': '7914906 * KABZK8W6PQT3 * AMERISOURCEBERGEN DRUG CORPORATION * '\n",
      "             'nan * 3927759 * NWEGNLYTBDW4 * AMERISOURCEBERGEN CORPORATION * '\n",
      "             'USA * UNITED STATES * 1300 MORRIS DR STE 1 * nan * CHESTERBROOK '\n",
      "             '* CHESTER * PA * PENNSYLVANIA * 190875559 * nan * 8002708464 * '\n",
      "             '804553104 * ',\n",
      "  'compared': '7914906 * KABZK8W6PQT3 * AMERISOURCEBERGEN DRUG CORPORATION * '\n",
      "              'nan * 3927759 * NWEGNLYTBDW4 * AMERISOURCEBERGEN CORPORATION * '\n",
      "              'USA * UNITED STATES * 1300 MORRIS DR STE 1 * nan * CHESTERBROOK '\n",
      "              '* CHESTER * PA * PENNSYLVANIA * 190875559 * 6 * 6238263181 * '\n",
      "              'nan * ',\n",
      "  'match': 94.23076923076923},\n",
      " {'compare': '7914906 * KABZK8W6PQT3 * AMERISOURCEBERGEN DRUG CORPORATION * '\n",
      "             'nan * 3927759 * NWEGNLYTBDW4 * AMERISOURCEBERGEN CORPORATION * '\n",
      "             'USA * UNITED STATES * 1300 MORRIS DR STE 1 * nan * CHESTERBROOK '\n",
      "             '* CHESTER * PA * PENNSYLVANIA * 190875559 * nan * 8002708464 * '\n",
      "             '804553104 * ',\n",
      "  'compared': '7914906 * KABZK8W6PQT3 * AMERISOURCEBERGEN DRUG CORPORATION * '\n",
      "              'nan * 3927759 * NWEGNLYTBDW4 * AMERISOURCEBERGEN CORPORATION * '\n",
      "              'USA * UNITED STATES * 1300 MORRIS DR STE 1 * nan * CHESTERBROOK '\n",
      "              '* CHESTER * PA * PENNSYLVANIA * 190875559 * nan * 4848441672 * '\n",
      "              'nan * ',\n",
      "  'match': 95.40229885057471},\n",
      " {'compare': '7914906 * KABZK8W6PQT3 * AMERISOURCEBERGEN DRUG CORPORATION * '\n",
      "             'nan * 3927759 * NWEGNLYTBDW4 * AMERISOURCEBERGEN CORPORATION * '\n",
      "             'USA * UNITED STATES * 1300 MORRIS DR STE 1 * nan * CHESTERBROOK '\n",
      "             '* CHESTER * PA * PENNSYLVANIA * 190875559 * nan * 8002708464 * '\n",
      "             '804553104 * ',\n",
      "  'compared': '7914906 * KABZK8W6PQT3 * AMERISOURCEBERGEN DRUG CORPORATION * '\n",
      "              'nan * 3927759 * NWEGNLYTBDW4 * AMERISOURCEBERGEN CORPORATION * '\n",
      "              'USA * UNITED STATES * 1 WEST FIRST AVENUE * nan * CONSHOHOCKEN '\n",
      "              '* MONTGOMERY * PA * PENNSYLVANIA * 1942818 * nan * 8166561769 * '\n",
      "              'nan * ',\n",
      "  'match': 83.9080459770115}]\n"
     ]
    }
   ],
   "source": [
    "pprint(fuzzer.match_report[0:5])"
   ]
  },
  {
   "cell_type": "code",
   "execution_count": 20,
   "metadata": {},
   "outputs": [],
   "source": [
    "final = pd.concat([single_duns, deduped])"
   ]
  },
  {
   "cell_type": "code",
   "execution_count": 21,
   "metadata": {},
   "outputs": [
    {
     "data": {
      "text/html": [
       "<div>\n",
       "<style scoped>\n",
       "    .dataframe tbody tr th:only-of-type {\n",
       "        vertical-align: middle;\n",
       "    }\n",
       "\n",
       "    .dataframe tbody tr th {\n",
       "        vertical-align: top;\n",
       "    }\n",
       "\n",
       "    .dataframe thead th {\n",
       "        text-align: right;\n",
       "    }\n",
       "</style>\n",
       "<table border=\"1\" class=\"dataframe\">\n",
       "  <thead>\n",
       "    <tr style=\"text-align: right;\">\n",
       "      <th></th>\n",
       "      <th>recipient_duns</th>\n",
       "      <th>recipient_uei</th>\n",
       "      <th>recipient_name</th>\n",
       "      <th>recipient_doing_business_as_name</th>\n",
       "      <th>recipient_parent_duns</th>\n",
       "      <th>recipient_parent_uei</th>\n",
       "      <th>recipient_parent_name</th>\n",
       "      <th>recipient_country_code</th>\n",
       "      <th>recipient_country_name</th>\n",
       "      <th>recipient_address_line_1</th>\n",
       "      <th>recipient_address_line_2</th>\n",
       "      <th>recipient_city_name</th>\n",
       "      <th>recipient_county_name</th>\n",
       "      <th>recipient_state_code</th>\n",
       "      <th>recipient_state_name</th>\n",
       "      <th>recipient_zip_4_code</th>\n",
       "      <th>recipient_congressional_district</th>\n",
       "      <th>recipient_phone_number</th>\n",
       "      <th>recipient_fax_number</th>\n",
       "    </tr>\n",
       "  </thead>\n",
       "  <tbody>\n",
       "    <tr>\n",
       "      <th>13</th>\n",
       "      <td>107389434</td>\n",
       "      <td>D91NJLQAALK5</td>\n",
       "      <td>CARSON SOLUTIONS, LLC</td>\n",
       "      <td>nan</td>\n",
       "      <td>107389434</td>\n",
       "      <td>D91NJLQAALK5</td>\n",
       "      <td>CARSON SOLUTIONS  LLC</td>\n",
       "      <td>USA</td>\n",
       "      <td>UNITED STATES</td>\n",
       "      <td>6305 IVY LN STE 65</td>\n",
       "      <td>nan</td>\n",
       "      <td>GREENBELT</td>\n",
       "      <td>PRINCE GEORGE'S</td>\n",
       "      <td>MD</td>\n",
       "      <td>MARYLAND</td>\n",
       "      <td>207701465</td>\n",
       "      <td>5</td>\n",
       "      <td>8004807132</td>\n",
       "      <td>2404070773</td>\n",
       "    </tr>\n",
       "    <tr>\n",
       "      <th>35</th>\n",
       "      <td>148992295</td>\n",
       "      <td>YX2XUVBF3BK5</td>\n",
       "      <td>SUDANO'S PRODUCE, LLC</td>\n",
       "      <td>nan</td>\n",
       "      <td>148992295</td>\n",
       "      <td>YX2XUVBF3BK5</td>\n",
       "      <td>SUDANOS PRODUCE LLC</td>\n",
       "      <td>USA</td>\n",
       "      <td>UNITED STATES</td>\n",
       "      <td>7480 CONOWINGO AVE UNT 16-28</td>\n",
       "      <td>nan</td>\n",
       "      <td>JESSUP</td>\n",
       "      <td>HOWARD</td>\n",
       "      <td>MD</td>\n",
       "      <td>MARYLAND</td>\n",
       "      <td>207949408</td>\n",
       "      <td>2</td>\n",
       "      <td>4107998224</td>\n",
       "      <td>4107999554</td>\n",
       "    </tr>\n",
       "    <tr>\n",
       "      <th>43</th>\n",
       "      <td>80185177</td>\n",
       "      <td>GLLPKM158NS7</td>\n",
       "      <td>CO FIRE AVIATION, INC</td>\n",
       "      <td>nan</td>\n",
       "      <td>80185177</td>\n",
       "      <td>GLLPKM158NS7</td>\n",
       "      <td>CO FIRE AVIATION  INC</td>\n",
       "      <td>USA</td>\n",
       "      <td>UNITED STATES</td>\n",
       "      <td>23101 HWY 52</td>\n",
       "      <td>nan</td>\n",
       "      <td>FORT MORGAN</td>\n",
       "      <td>MORGAN</td>\n",
       "      <td>CO</td>\n",
       "      <td>COLORADO</td>\n",
       "      <td>807019401</td>\n",
       "      <td>4</td>\n",
       "      <td>9708678414</td>\n",
       "      <td>nan</td>\n",
       "    </tr>\n",
       "    <tr>\n",
       "      <th>52</th>\n",
       "      <td>39895743</td>\n",
       "      <td>FT6CY4K64LX1</td>\n",
       "      <td>UBC INC</td>\n",
       "      <td>nan</td>\n",
       "      <td>39895743</td>\n",
       "      <td>FT6CY4K64LX1</td>\n",
       "      <td>UBC INC</td>\n",
       "      <td>USA</td>\n",
       "      <td>UNITED STATES</td>\n",
       "      <td>6101 JOHNS RD STE 1</td>\n",
       "      <td>nan</td>\n",
       "      <td>TAMPA</td>\n",
       "      <td>HILLSBOROUGH</td>\n",
       "      <td>FL</td>\n",
       "      <td>FLORIDA</td>\n",
       "      <td>336344425</td>\n",
       "      <td>14</td>\n",
       "      <td>8138846076</td>\n",
       "      <td>8138848318</td>\n",
       "    </tr>\n",
       "    <tr>\n",
       "      <th>58</th>\n",
       "      <td>877772418</td>\n",
       "      <td>GJVFDKY295L1</td>\n",
       "      <td>DOUGLAS WEBB &amp; ASSOCIATES, INC</td>\n",
       "      <td>nan</td>\n",
       "      <td>877772418</td>\n",
       "      <td>GJVFDKY295L1</td>\n",
       "      <td>DOUGLAS WEBB &amp; ASSOCIATES  INC</td>\n",
       "      <td>USA</td>\n",
       "      <td>UNITED STATES</td>\n",
       "      <td>8080 CORPORATE BLVD</td>\n",
       "      <td>nan</td>\n",
       "      <td>PLAIN CITY</td>\n",
       "      <td>UNION</td>\n",
       "      <td>OH</td>\n",
       "      <td>OHIO</td>\n",
       "      <td>43064922</td>\n",
       "      <td>4</td>\n",
       "      <td>614873983</td>\n",
       "      <td>6148739834</td>\n",
       "    </tr>\n",
       "  </tbody>\n",
       "</table>\n",
       "</div>"
      ],
      "text/plain": [
       "   recipient_duns recipient_uei                  recipient_name  \\\n",
       "13      107389434  D91NJLQAALK5           CARSON SOLUTIONS, LLC   \n",
       "35      148992295  YX2XUVBF3BK5           SUDANO'S PRODUCE, LLC   \n",
       "43       80185177  GLLPKM158NS7           CO FIRE AVIATION, INC   \n",
       "52       39895743  FT6CY4K64LX1                         UBC INC   \n",
       "58      877772418  GJVFDKY295L1  DOUGLAS WEBB & ASSOCIATES, INC   \n",
       "\n",
       "   recipient_doing_business_as_name recipient_parent_duns  \\\n",
       "13                              nan             107389434   \n",
       "35                              nan             148992295   \n",
       "43                              nan              80185177   \n",
       "52                              nan              39895743   \n",
       "58                              nan             877772418   \n",
       "\n",
       "   recipient_parent_uei           recipient_parent_name  \\\n",
       "13         D91NJLQAALK5           CARSON SOLUTIONS  LLC   \n",
       "35         YX2XUVBF3BK5             SUDANOS PRODUCE LLC   \n",
       "43         GLLPKM158NS7           CO FIRE AVIATION  INC   \n",
       "52         FT6CY4K64LX1                         UBC INC   \n",
       "58         GJVFDKY295L1  DOUGLAS WEBB & ASSOCIATES  INC   \n",
       "\n",
       "   recipient_country_code recipient_country_name  \\\n",
       "13                    USA          UNITED STATES   \n",
       "35                    USA          UNITED STATES   \n",
       "43                    USA          UNITED STATES   \n",
       "52                    USA          UNITED STATES   \n",
       "58                    USA          UNITED STATES   \n",
       "\n",
       "        recipient_address_line_1 recipient_address_line_2 recipient_city_name  \\\n",
       "13            6305 IVY LN STE 65                      nan           GREENBELT   \n",
       "35  7480 CONOWINGO AVE UNT 16-28                      nan              JESSUP   \n",
       "43                  23101 HWY 52                      nan         FORT MORGAN   \n",
       "52           6101 JOHNS RD STE 1                      nan               TAMPA   \n",
       "58           8080 CORPORATE BLVD                      nan          PLAIN CITY   \n",
       "\n",
       "   recipient_county_name recipient_state_code recipient_state_name  \\\n",
       "13       PRINCE GEORGE'S                   MD             MARYLAND   \n",
       "35                HOWARD                   MD             MARYLAND   \n",
       "43                MORGAN                   CO             COLORADO   \n",
       "52          HILLSBOROUGH                   FL              FLORIDA   \n",
       "58                 UNION                   OH                 OHIO   \n",
       "\n",
       "   recipient_zip_4_code recipient_congressional_district  \\\n",
       "13            207701465                                5   \n",
       "35            207949408                                2   \n",
       "43            807019401                                4   \n",
       "52            336344425                               14   \n",
       "58             43064922                                4   \n",
       "\n",
       "   recipient_phone_number recipient_fax_number  \n",
       "13             8004807132           2404070773  \n",
       "35             4107998224           4107999554  \n",
       "43             9708678414                  nan  \n",
       "52             8138846076           8138848318  \n",
       "58              614873983           6148739834  "
      ]
     },
     "execution_count": 21,
     "metadata": {},
     "output_type": "execute_result"
    }
   ],
   "source": [
    "final.head()"
   ]
  },
  {
   "cell_type": "code",
   "execution_count": 22,
   "metadata": {},
   "outputs": [
    {
     "name": "stdout",
     "output_type": "stream",
     "text": [
      "Final records for recipients in ./data/all_2021.csv\n",
      "is 115763 compared to DUNs 116593 total\n"
     ]
    }
   ],
   "source": [
    "print(f'Final records for recipients in {file_name}\\nis {len(final)} compared to DUNs {duns_count} total')"
   ]
  },
  {
   "cell_type": "markdown",
   "metadata": {},
   "source": [
    "### Next steps and comments\n",
    "- From here, we can join this clean recipient data back into our larger dataset to use for further analysis. Having clean records to join and uniquely indentify recipents will allows us to pull toegether aggregate metrics using a resovled entity, giving us a more complete picture of what a given entity looks like in a dataset.\n",
    "- One weakness of this approach is it's reliance on DUNs number. If a company were to misreport their DUNs or have an upstream data entry mistake where the DUNs was misassigned to a company, this approach would falter since it uses DUNs to group values together prior to matching.\n",
    "- We also lose the records that get macthed upon but more work can be done to either concatinate them into multi value fields in the final result ..."
   ]
  },
  {
   "cell_type": "code",
   "execution_count": null,
   "metadata": {},
   "outputs": [],
   "source": []
  }
 ],
 "metadata": {
  "kernelspec": {
   "display_name": "Python 3 (ipykernel)",
   "language": "python",
   "name": "python3"
  },
  "language_info": {
   "codemirror_mode": {
    "name": "ipython",
    "version": 3
   },
   "file_extension": ".py",
   "mimetype": "text/x-python",
   "name": "python",
   "nbconvert_exporter": "python",
   "pygments_lexer": "ipython3",
   "version": "3.9.9"
  }
 },
 "nbformat": 4,
 "nbformat_minor": 1
}
