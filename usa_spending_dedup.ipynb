{
 "cells": [
  {
   "cell_type": "markdown",
   "metadata": {},
   "source": [
    "## Tamr Take Home - Chris Smith"
   ]
  },
  {
   "cell_type": "code",
   "execution_count": 2,
   "metadata": {},
   "outputs": [],
   "source": [
    "import pandas as pd\n",
    "from tools import FuzzPipe, FuzzyUSA\n",
    "from pprint import pprint"
   ]
  },
  {
   "cell_type": "markdown",
   "metadata": {},
   "source": [
    "## How many distinct suppliers are there in the USA spend dataset?\n",
    "- Number of initial records.\n",
    "- Number of records after reducing based on exact supplier/vendor matches.\n",
    "- Number of records after reducing further based on “fuzzy” matching criteria. This should\n",
    "    group together records where the same supplier had slightly different names (such as\n",
    "    “W.W. Grainger” and “WW Grainger” or “IBM” and “International Business Machines”).\n",
    "    Some of the fuzzy matching logic might also mean matching across columns such as\n",
    "    matching vendorname with vendoralternatename. Fields like phonenumber,\n",
    "    streetaddress, city, state, and dunsnumber can also provide useful signals.\n",
    "- Some measure(s) of accuracy with explanations."
   ]
  },
  {
   "cell_type": "code",
   "execution_count": 6,
   "metadata": {},
   "outputs": [],
   "source": [
    "# pick which file to analyze\n",
    "file_name = './data/FY2021_All_Contracts_Full_20220110_4.csv'"
   ]
  },
  {
   "cell_type": "code",
   "execution_count": 7,
   "metadata": {},
   "outputs": [
    {
     "name": "stderr",
     "output_type": "stream",
     "text": [
      "/Users/csmizzle/Library/Caches/pypoetry/virtualenvs/usa-spending-AGbi8R_O-py3.9/lib/python3.9/site-packages/IPython/core/interactiveshell.py:3251: DtypeWarning: Columns (5,44,63,64,71,103,123,124,153) have mixed types.Specify dtype option on import or set low_memory=False.\n",
      "  exec(code_obj, self.user_global_ns, self.user_ns)\n"
     ]
    }
   ],
   "source": [
    "df = pd.read_csv(file_name)"
   ]
  },
  {
   "cell_type": "markdown",
   "metadata": {},
   "source": [
    "### Which fields have suitable cardinality?\n",
    "- Can we target a field that has minimal missing values but also gives us a solid identifier for each company?\n",
    "- DUNS is a likely candidate of the top of my head\n",
    "- Looking for good mix of cardinality and low missing values"
   ]
  },
  {
   "cell_type": "code",
   "execution_count": 8,
   "metadata": {},
   "outputs": [],
   "source": [
    "counts = pd.DataFrame(df.nunique()).reset_index(drop=False).rename(columns={'index': 'col', 0: 'count'})"
   ]
  },
  {
   "cell_type": "code",
   "execution_count": 9,
   "metadata": {},
   "outputs": [
    {
     "data": {
      "text/html": [
       "<div>\n",
       "<style scoped>\n",
       "    .dataframe tbody tr th:only-of-type {\n",
       "        vertical-align: middle;\n",
       "    }\n",
       "\n",
       "    .dataframe tbody tr th {\n",
       "        vertical-align: top;\n",
       "    }\n",
       "\n",
       "    .dataframe thead th {\n",
       "        text-align: right;\n",
       "    }\n",
       "</style>\n",
       "<table border=\"1\" class=\"dataframe\">\n",
       "  <thead>\n",
       "    <tr style=\"text-align: right;\">\n",
       "      <th></th>\n",
       "      <th>col</th>\n",
       "      <th>count</th>\n",
       "    </tr>\n",
       "  </thead>\n",
       "  <tbody>\n",
       "    <tr>\n",
       "      <th>132</th>\n",
       "      <td>small_business_competitiveness_demonstration_p...</td>\n",
       "      <td>1</td>\n",
       "    </tr>\n",
       "    <tr>\n",
       "      <th>258</th>\n",
       "      <td>1994_land_grant_college</td>\n",
       "      <td>1</td>\n",
       "    </tr>\n",
       "    <tr>\n",
       "      <th>19</th>\n",
       "      <td>action_date_fiscal_year</td>\n",
       "      <td>1</td>\n",
       "    </tr>\n",
       "    <tr>\n",
       "      <th>261</th>\n",
       "      <td>tribal_college</td>\n",
       "      <td>1</td>\n",
       "    </tr>\n",
       "    <tr>\n",
       "      <th>262</th>\n",
       "      <td>alaskan_native_servicing_institution</td>\n",
       "      <td>1</td>\n",
       "    </tr>\n",
       "    <tr>\n",
       "      <th>207</th>\n",
       "      <td>us_federal_government</td>\n",
       "      <td>2</td>\n",
       "    </tr>\n",
       "    <tr>\n",
       "      <th>200</th>\n",
       "      <td>native_american_owned_business</td>\n",
       "      <td>2</td>\n",
       "    </tr>\n",
       "    <tr>\n",
       "      <th>199</th>\n",
       "      <td>hispanic_american_owned_business</td>\n",
       "      <td>2</td>\n",
       "    </tr>\n",
       "    <tr>\n",
       "      <th>198</th>\n",
       "      <td>black_american_owned_business</td>\n",
       "      <td>2</td>\n",
       "    </tr>\n",
       "    <tr>\n",
       "      <th>78</th>\n",
       "      <td>multiple_or_single_award_idv_code</td>\n",
       "      <td>2</td>\n",
       "    </tr>\n",
       "  </tbody>\n",
       "</table>\n",
       "</div>"
      ],
      "text/plain": [
       "                                                   col  count\n",
       "132  small_business_competitiveness_demonstration_p...      1\n",
       "258                            1994_land_grant_college      1\n",
       "19                             action_date_fiscal_year      1\n",
       "261                                     tribal_college      1\n",
       "262               alaskan_native_servicing_institution      1\n",
       "207                              us_federal_government      2\n",
       "200                     native_american_owned_business      2\n",
       "199                   hispanic_american_owned_business      2\n",
       "198                      black_american_owned_business      2\n",
       "78                   multiple_or_single_award_idv_code      2"
      ]
     },
     "execution_count": 9,
     "metadata": {},
     "output_type": "execute_result"
    }
   ],
   "source": [
    "counts.sort_values(by='count', ascending=True).head(10)"
   ]
  },
  {
   "cell_type": "code",
   "execution_count": 10,
   "metadata": {},
   "outputs": [],
   "source": [
    "# let's filter out boolean fields\n",
    "counts = counts[counts['count'] > 2]"
   ]
  },
  {
   "cell_type": "code",
   "execution_count": 11,
   "metadata": {},
   "outputs": [],
   "source": [
    "# check out top 10 percent\n",
    "top_10 = counts[counts['count'] >= counts['count'].quantile(.9)]"
   ]
  },
  {
   "cell_type": "code",
   "execution_count": 12,
   "metadata": {},
   "outputs": [
    {
     "data": {
      "text/html": [
       "<div>\n",
       "<style scoped>\n",
       "    .dataframe tbody tr th:only-of-type {\n",
       "        vertical-align: middle;\n",
       "    }\n",
       "\n",
       "    .dataframe tbody tr th {\n",
       "        vertical-align: top;\n",
       "    }\n",
       "\n",
       "    .dataframe thead th {\n",
       "        text-align: right;\n",
       "    }\n",
       "</style>\n",
       "<table border=\"1\" class=\"dataframe\">\n",
       "  <thead>\n",
       "    <tr style=\"text-align: right;\">\n",
       "      <th></th>\n",
       "      <th>col</th>\n",
       "      <th>count</th>\n",
       "    </tr>\n",
       "  </thead>\n",
       "  <tbody>\n",
       "    <tr>\n",
       "      <th>0</th>\n",
       "      <td>contract_transaction_unique_key</td>\n",
       "      <td>1000000</td>\n",
       "    </tr>\n",
       "    <tr>\n",
       "      <th>1</th>\n",
       "      <td>contract_award_unique_key</td>\n",
       "      <td>920736</td>\n",
       "    </tr>\n",
       "    <tr>\n",
       "      <th>2</th>\n",
       "      <td>award_id_piid</td>\n",
       "      <td>917094</td>\n",
       "    </tr>\n",
       "    <tr>\n",
       "      <th>9</th>\n",
       "      <td>federal_action_obligation</td>\n",
       "      <td>358512</td>\n",
       "    </tr>\n",
       "    <tr>\n",
       "      <th>10</th>\n",
       "      <td>total_dollars_obligated</td>\n",
       "      <td>377650</td>\n",
       "    </tr>\n",
       "    <tr>\n",
       "      <th>11</th>\n",
       "      <td>base_and_exercised_options_value</td>\n",
       "      <td>351712</td>\n",
       "    </tr>\n",
       "    <tr>\n",
       "      <th>12</th>\n",
       "      <td>current_total_value_of_award</td>\n",
       "      <td>373958</td>\n",
       "    </tr>\n",
       "    <tr>\n",
       "      <th>13</th>\n",
       "      <td>base_and_all_options_value</td>\n",
       "      <td>346799</td>\n",
       "    </tr>\n",
       "    <tr>\n",
       "      <th>14</th>\n",
       "      <td>potential_total_value_of_award</td>\n",
       "      <td>380517</td>\n",
       "    </tr>\n",
       "    <tr>\n",
       "      <th>45</th>\n",
       "      <td>recipient_duns</td>\n",
       "      <td>49826</td>\n",
       "    </tr>\n",
       "    <tr>\n",
       "      <th>47</th>\n",
       "      <td>recipient_name</td>\n",
       "      <td>50254</td>\n",
       "    </tr>\n",
       "    <tr>\n",
       "      <th>55</th>\n",
       "      <td>recipient_address_line_1</td>\n",
       "      <td>52516</td>\n",
       "    </tr>\n",
       "    <tr>\n",
       "      <th>63</th>\n",
       "      <td>recipient_phone_number</td>\n",
       "      <td>66150</td>\n",
       "    </tr>\n",
       "    <tr>\n",
       "      <th>71</th>\n",
       "      <td>primary_place_of_performance_zip_4</td>\n",
       "      <td>55040</td>\n",
       "    </tr>\n",
       "    <tr>\n",
       "      <th>84</th>\n",
       "      <td>award_description</td>\n",
       "      <td>757988</td>\n",
       "    </tr>\n",
       "    <tr>\n",
       "      <th>87</th>\n",
       "      <td>solicitation_identifier</td>\n",
       "      <td>103947</td>\n",
       "    </tr>\n",
       "    <tr>\n",
       "      <th>282</th>\n",
       "      <td>usaspending_permalink</td>\n",
       "      <td>920736</td>\n",
       "    </tr>\n",
       "    <tr>\n",
       "      <th>283</th>\n",
       "      <td>last_modified_date</td>\n",
       "      <td>739532</td>\n",
       "    </tr>\n",
       "  </tbody>\n",
       "</table>\n",
       "</div>"
      ],
      "text/plain": [
       "                                    col    count\n",
       "0       contract_transaction_unique_key  1000000\n",
       "1             contract_award_unique_key   920736\n",
       "2                         award_id_piid   917094\n",
       "9             federal_action_obligation   358512\n",
       "10              total_dollars_obligated   377650\n",
       "11     base_and_exercised_options_value   351712\n",
       "12         current_total_value_of_award   373958\n",
       "13           base_and_all_options_value   346799\n",
       "14       potential_total_value_of_award   380517\n",
       "45                       recipient_duns    49826\n",
       "47                       recipient_name    50254\n",
       "55             recipient_address_line_1    52516\n",
       "63               recipient_phone_number    66150\n",
       "71   primary_place_of_performance_zip_4    55040\n",
       "84                    award_description   757988\n",
       "87              solicitation_identifier   103947\n",
       "282               usaspending_permalink   920736\n",
       "283                  last_modified_date   739532"
      ]
     },
     "execution_count": 12,
     "metadata": {},
     "output_type": "execute_result"
    }
   ],
   "source": [
    "top_10"
   ]
  },
  {
   "cell_type": "markdown",
   "metadata": {},
   "source": [
    "DUNs looks intriguing!"
   ]
  },
  {
   "cell_type": "markdown",
   "metadata": {},
   "source": [
    "### Which fields don't have much missing data?"
   ]
  },
  {
   "cell_type": "code",
   "execution_count": 13,
   "metadata": {},
   "outputs": [],
   "source": [
    "missing_values = pd.DataFrame(df.isna().sum()).reset_index(drop=False).rename(columns={'index': 'col', 0: 'count'})\n",
    "# let's filter out boolean fields as those won;t be much help for our problem set\n",
    "# lets start with fields that have 0 missing values\n",
    "no_missing = missing_values[missing_values['count'] == 0]"
   ]
  },
  {
   "cell_type": "code",
   "execution_count": 14,
   "metadata": {},
   "outputs": [],
   "source": [
    "no_missing_low_card = pd.merge(\n",
    "    left=top_10,\n",
    "    right=no_missing,\n",
    "    left_on='col',\n",
    "    right_on='col',\n",
    "    how='inner'\n",
    ")"
   ]
  },
  {
   "cell_type": "code",
   "execution_count": 15,
   "metadata": {},
   "outputs": [
    {
     "data": {
      "text/html": [
       "<div>\n",
       "<style scoped>\n",
       "    .dataframe tbody tr th:only-of-type {\n",
       "        vertical-align: middle;\n",
       "    }\n",
       "\n",
       "    .dataframe tbody tr th {\n",
       "        vertical-align: top;\n",
       "    }\n",
       "\n",
       "    .dataframe thead th {\n",
       "        text-align: right;\n",
       "    }\n",
       "</style>\n",
       "<table border=\"1\" class=\"dataframe\">\n",
       "  <thead>\n",
       "    <tr style=\"text-align: right;\">\n",
       "      <th></th>\n",
       "      <th>col</th>\n",
       "      <th>count_x</th>\n",
       "      <th>count_y</th>\n",
       "    </tr>\n",
       "  </thead>\n",
       "  <tbody>\n",
       "    <tr>\n",
       "      <th>7</th>\n",
       "      <td>recipient_duns</td>\n",
       "      <td>49826</td>\n",
       "      <td>0</td>\n",
       "    </tr>\n",
       "    <tr>\n",
       "      <th>5</th>\n",
       "      <td>base_and_all_options_value</td>\n",
       "      <td>346799</td>\n",
       "      <td>0</td>\n",
       "    </tr>\n",
       "    <tr>\n",
       "      <th>3</th>\n",
       "      <td>federal_action_obligation</td>\n",
       "      <td>358512</td>\n",
       "      <td>0</td>\n",
       "    </tr>\n",
       "    <tr>\n",
       "      <th>4</th>\n",
       "      <td>total_dollars_obligated</td>\n",
       "      <td>377650</td>\n",
       "      <td>0</td>\n",
       "    </tr>\n",
       "    <tr>\n",
       "      <th>6</th>\n",
       "      <td>potential_total_value_of_award</td>\n",
       "      <td>380517</td>\n",
       "      <td>0</td>\n",
       "    </tr>\n",
       "    <tr>\n",
       "      <th>9</th>\n",
       "      <td>last_modified_date</td>\n",
       "      <td>739532</td>\n",
       "      <td>0</td>\n",
       "    </tr>\n",
       "    <tr>\n",
       "      <th>2</th>\n",
       "      <td>award_id_piid</td>\n",
       "      <td>917094</td>\n",
       "      <td>0</td>\n",
       "    </tr>\n",
       "    <tr>\n",
       "      <th>1</th>\n",
       "      <td>contract_award_unique_key</td>\n",
       "      <td>920736</td>\n",
       "      <td>0</td>\n",
       "    </tr>\n",
       "    <tr>\n",
       "      <th>8</th>\n",
       "      <td>usaspending_permalink</td>\n",
       "      <td>920736</td>\n",
       "      <td>0</td>\n",
       "    </tr>\n",
       "    <tr>\n",
       "      <th>0</th>\n",
       "      <td>contract_transaction_unique_key</td>\n",
       "      <td>1000000</td>\n",
       "      <td>0</td>\n",
       "    </tr>\n",
       "  </tbody>\n",
       "</table>\n",
       "</div>"
      ],
      "text/plain": [
       "                               col  count_x  count_y\n",
       "7                   recipient_duns    49826        0\n",
       "5       base_and_all_options_value   346799        0\n",
       "3        federal_action_obligation   358512        0\n",
       "4          total_dollars_obligated   377650        0\n",
       "6   potential_total_value_of_award   380517        0\n",
       "9               last_modified_date   739532        0\n",
       "2                    award_id_piid   917094        0\n",
       "1        contract_award_unique_key   920736        0\n",
       "8            usaspending_permalink   920736        0\n",
       "0  contract_transaction_unique_key  1000000        0"
      ]
     },
     "execution_count": 15,
     "metadata": {},
     "output_type": "execute_result"
    }
   ],
   "source": [
    "no_missing_low_card.sort_values(by='count_x')"
   ]
  },
  {
   "cell_type": "code",
   "execution_count": 16,
   "metadata": {},
   "outputs": [],
   "source": [
    "duns_count = no_missing_low_card[no_missing_low_card.col == 'recipient_duns']['count_x'].values[0]"
   ]
  },
  {
   "cell_type": "markdown",
   "metadata": {},
   "source": [
    "#### Looks like DUNs is an ideal field to groupby on\n",
    "- No missing values\n",
    "- Suitable cardinality\n",
    "- Unique identifer\n",
    "- We can unify records on that key with minimal data loss\n",
    "\n",
    "Lets clean up the recipient dataset and drop any duplicates that have like string fields\n",
    "\n",
    "Goal is to get as close DUNs unique records and then scale the analysis up with more data\n",
    "\n",
    "Let's subset all columns with that are dealing recipients and use DUNs as our primary indentifier"
   ]
  },
  {
   "cell_type": "code",
   "execution_count": 17,
   "metadata": {},
   "outputs": [
    {
     "data": {
      "text/plain": [
       "['recipient_duns',\n",
       " 'recipient_uei',\n",
       " 'recipient_name',\n",
       " 'recipient_doing_business_as_name',\n",
       " 'recipient_parent_duns',\n",
       " 'recipient_parent_uei',\n",
       " 'recipient_parent_name',\n",
       " 'recipient_country_code',\n",
       " 'recipient_country_name',\n",
       " 'recipient_address_line_1',\n",
       " 'recipient_address_line_2',\n",
       " 'recipient_city_name',\n",
       " 'recipient_county_name',\n",
       " 'recipient_state_code',\n",
       " 'recipient_state_name',\n",
       " 'recipient_zip_4_code',\n",
       " 'recipient_congressional_district',\n",
       " 'recipient_phone_number',\n",
       " 'recipient_fax_number']"
      ]
     },
     "execution_count": 17,
     "metadata": {},
     "output_type": "execute_result"
    }
   ],
   "source": [
    "larger_recip_data = [\n",
    "    col for col in df.columns\n",
    "    if str(col).startswith('recipient')\n",
    "]\n",
    "larger_recip_data"
   ]
  },
  {
   "cell_type": "code",
   "execution_count": 18,
   "metadata": {},
   "outputs": [],
   "source": [
    "recip_data = df[larger_recip_data]"
   ]
  },
  {
   "cell_type": "markdown",
   "metadata": {},
   "source": [
    "### Workflow is broken into two main classes\n",
    "These classes are logical groupings of dataframe operations using DUNs to group like records together\n",
    "- FuzzPipe -> simple cleaning and deduping\n",
    "    - Normalize data into string format\n",
    "        - Strip trailing zeros from float from string fields\n",
    "        - Dedup identical records from string fields\n",
    "    - Establish a UID (in our case DUNs) and use that to find ids with with repeats values for our UID\n",
    "        - In our case, we are looking for DUNs with multiple names still associated with them\n",
    "    - Filter to fields with both single and multi UIDs for down stream fuzzy matching and joining into golden table\n",
    "- FuzzyUSA -> Fuzzy matching based on multiple fields on our UID\n",
    "    - Take data with multiple values for a UID field (DUNs)\n",
    "    - Group those values into look up table to increase performance and elimiate long looping\n",
    "    - Convert fields to string to be evaluated by fuzzy matching algorithm `rapidfuzz`\n",
    "        - Using simple ratio for now (could test other approaches or ensemble together)\n",
    "        - Simple Ratio -> ratio of characters shared between comparison\n",
    "    - Score like values against first record\n",
    "        - If average score is greater than 90 for subset based UID, use first record (this can be improved, works for now)\n",
    "        - Generate `match_report` off of FuzzyUSA for analysis\n",
    "    - Return unifed records based on evaluation"
   ]
  },
  {
   "cell_type": "code",
   "execution_count": 21,
   "metadata": {},
   "outputs": [],
   "source": [
    "pipe = FuzzPipe(recip_data)"
   ]
  },
  {
   "cell_type": "code",
   "execution_count": 22,
   "metadata": {
    "scrolled": true
   },
   "outputs": [
    {
     "name": "stdout",
     "output_type": "stream",
     "text": [
      "[!] Original size: 1000000\n",
      "[!] Dedup on string fields size: 70875\n",
      "[!] Multi IDs: 32918\n",
      "[!] Single IDs: 37957\n"
     ]
    }
   ],
   "source": [
    "multi_duns, single_duns = pipe.run(\n",
    "    group_id='recipient_duns',\n",
    "    count_field='recipient_name'\n",
    ")"
   ]
  },
  {
   "cell_type": "code",
   "execution_count": 23,
   "metadata": {},
   "outputs": [
    {
     "name": "stdout",
     "output_type": "stream",
     "text": [
      "[!] Length before resolving: 32918\n"
     ]
    },
    {
     "name": "stderr",
     "output_type": "stream",
     "text": [
      "100%|██████████| 11865/11865 [00:00<00:00, 65645.36it/s]"
     ]
    },
    {
     "name": "stdout",
     "output_type": "stream",
     "text": [
      "[!] Missing keys: 0\n",
      "[!] Length after resolving: 11865\n"
     ]
    },
    {
     "name": "stderr",
     "output_type": "stream",
     "text": [
      "\n"
     ]
    }
   ],
   "source": [
    "fuzzer = FuzzyUSA(multi_duns)\n",
    "deduped = fuzzer.fuzz_match(\n",
    "    key_label='recipient_duns',\n",
    "    fuzz_fields=list(multi_duns.columns)\n",
    ")"
   ]
  },
  {
   "cell_type": "code",
   "execution_count": 24,
   "metadata": {},
   "outputs": [
    {
     "name": "stdout",
     "output_type": "stream",
     "text": [
      "[{'compare': '57799637 * QT2NRCXEU2D3 * HARTFORD PROVISION COMPANY, THE * nan '\n",
      "             '* 57799637 * QT2NRCXEU2D3 * HARTFORD PROVISION COMPANY THE * USA '\n",
      "             '* UNITED STATES * 625 NUTMEG RD N * nan * SOUTH WINDSOR * '\n",
      "             'HARTFORD * CT * CONNECTICUT * 6074244 * nan * 80088398 * '\n",
      "             '860583657 * ',\n",
      "  'compared': '57799637 * QT2NRCXEU2D3 * HARTFORD PROVISION COMPANY, THE * nan '\n",
      "              '* 57799637 * QT2NRCXEU2D3 * HARTFORD PROVISION COMPANY THE * '\n",
      "              'USA * UNITED STATES * 625 NUTMEG RD N * nan * SOUTH WINDSOR * '\n",
      "              'HARTFORD * CT * CONNECTICUT * 6074244 * 1 * 80088398 * '\n",
      "              '860583657 * ',\n",
      "  'match': 99.2156862745098},\n",
      " {'compare': '7914906 * KABZK8W6PQT3 * AMERISOURCEBERGEN DRUG CORPORATION * '\n",
      "             'nan * 3927759 * NWEGNLYTBDW4 * AMERISOURCEBERGEN CORPORATION * '\n",
      "             'USA * UNITED STATES * 1300 MORRIS DR STE 1 * nan * CHESTERBROOK '\n",
      "             '* CHESTER * PA * PENNSYLVANIA * 190875559 * nan * 8002708464 * '\n",
      "             '804553104 * ',\n",
      "  'compared': '7914906 * KABZK8W6PQT3 * AMERISOURCEBERGEN DRUG CORPORATION * '\n",
      "              'nan * 3927759 * NWEGNLYTBDW4 * AMERISOURCEBERGEN CORPORATION * '\n",
      "              'USA * UNITED STATES * 1300 MORRIS DR STE 1 * nan * CHESTERBROOK '\n",
      "              '* CHESTER * PA * PENNSYLVANIA * 190875559 * nan * 6238263181 * '\n",
      "              'nan * ',\n",
      "  'match': 95.01915708812261},\n",
      " {'compare': '7914906 * KABZK8W6PQT3 * AMERISOURCEBERGEN DRUG CORPORATION * '\n",
      "             'nan * 3927759 * NWEGNLYTBDW4 * AMERISOURCEBERGEN CORPORATION * '\n",
      "             'USA * UNITED STATES * 1300 MORRIS DR STE 1 * nan * CHESTERBROOK '\n",
      "             '* CHESTER * PA * PENNSYLVANIA * 190875559 * nan * 8002708464 * '\n",
      "             '804553104 * ',\n",
      "  'compared': '7914906 * KABZK8W6PQT3 * AMERISOURCEBERGEN DRUG CORPORATION * '\n",
      "              'nan * 3927759 * NWEGNLYTBDW4 * AMERISOURCEBERGEN CORPORATION * '\n",
      "              'USA * UNITED STATES * 1300 MORRIS DR STE 1 * nan * CHESTERBROOK '\n",
      "              '* CHESTER * PA * PENNSYLVANIA * 190875559 * 6 * 8002708464 * '\n",
      "              '804553104 * ',\n",
      "  'match': 99.23954372623574},\n",
      " {'compare': '7914906 * KABZK8W6PQT3 * AMERISOURCEBERGEN DRUG CORPORATION * '\n",
      "             'nan * 3927759 * NWEGNLYTBDW4 * AMERISOURCEBERGEN CORPORATION * '\n",
      "             'USA * UNITED STATES * 1300 MORRIS DR STE 1 * nan * CHESTERBROOK '\n",
      "             '* CHESTER * PA * PENNSYLVANIA * 190875559 * nan * 8002708464 * '\n",
      "             '804553104 * ',\n",
      "  'compared': '7914906 * KABZK8W6PQT3 * AMERISOURCEBERGEN DRUG CORPORATION * '\n",
      "              'nan * 3927759 * NWEGNLYTBDW4 * AMERISOURCEBERGEN CORPORATION * '\n",
      "              'USA * UNITED STATES * 1300 MORRIS DR STE 1 * nan * CHESTERBROOK '\n",
      "              '* CHESTER * PA * PENNSYLVANIA * 190875559 * nan * 4848441672 * '\n",
      "              'nan * ',\n",
      "  'match': 95.40229885057471},\n",
      " {'compare': '7914906 * KABZK8W6PQT3 * AMERISOURCEBERGEN DRUG CORPORATION * '\n",
      "             'nan * 3927759 * NWEGNLYTBDW4 * AMERISOURCEBERGEN CORPORATION * '\n",
      "             'USA * UNITED STATES * 1300 MORRIS DR STE 1 * nan * CHESTERBROOK '\n",
      "             '* CHESTER * PA * PENNSYLVANIA * 190875559 * nan * 8002708464 * '\n",
      "             '804553104 * ',\n",
      "  'compared': '7914906 * KABZK8W6PQT3 * AMERISOURCEBERGEN DRUG CORPORATION * '\n",
      "              'nan * 3927759 * NWEGNLYTBDW4 * AMERISOURCEBERGEN CORPORATION * '\n",
      "              'USA * UNITED STATES * 1300 MORRIS DR STE 1 * nan * CHESTERBROOK '\n",
      "              '* CHESTER * PA * PENNSYLVANIA * 190875559 * 6 * 6238263181 * '\n",
      "              'nan * ',\n",
      "  'match': 94.23076923076923}]\n"
     ]
    }
   ],
   "source": [
    "pprint(fuzzer.match_report[0:5])"
   ]
  },
  {
   "cell_type": "code",
   "execution_count": 25,
   "metadata": {},
   "outputs": [],
   "source": [
    "final = pd.concat([single_duns, deduped])"
   ]
  },
  {
   "cell_type": "code",
   "execution_count": 27,
   "metadata": {},
   "outputs": [
    {
     "data": {
      "text/html": [
       "<div>\n",
       "<style scoped>\n",
       "    .dataframe tbody tr th:only-of-type {\n",
       "        vertical-align: middle;\n",
       "    }\n",
       "\n",
       "    .dataframe tbody tr th {\n",
       "        vertical-align: top;\n",
       "    }\n",
       "\n",
       "    .dataframe thead th {\n",
       "        text-align: right;\n",
       "    }\n",
       "</style>\n",
       "<table border=\"1\" class=\"dataframe\">\n",
       "  <thead>\n",
       "    <tr style=\"text-align: right;\">\n",
       "      <th></th>\n",
       "      <th>recipient_duns</th>\n",
       "      <th>recipient_uei</th>\n",
       "      <th>recipient_name</th>\n",
       "      <th>recipient_doing_business_as_name</th>\n",
       "      <th>recipient_parent_duns</th>\n",
       "      <th>recipient_parent_uei</th>\n",
       "      <th>recipient_parent_name</th>\n",
       "      <th>recipient_country_code</th>\n",
       "      <th>recipient_country_name</th>\n",
       "      <th>recipient_address_line_1</th>\n",
       "      <th>recipient_address_line_2</th>\n",
       "      <th>recipient_city_name</th>\n",
       "      <th>recipient_county_name</th>\n",
       "      <th>recipient_state_code</th>\n",
       "      <th>recipient_state_name</th>\n",
       "      <th>recipient_zip_4_code</th>\n",
       "      <th>recipient_congressional_district</th>\n",
       "      <th>recipient_phone_number</th>\n",
       "      <th>recipient_fax_number</th>\n",
       "    </tr>\n",
       "  </thead>\n",
       "  <tbody>\n",
       "    <tr>\n",
       "      <th>5</th>\n",
       "      <td>963765453</td>\n",
       "      <td>E18HG4M6MA86</td>\n",
       "      <td>HUMAN GEO GROUP, THE</td>\n",
       "      <td>nan</td>\n",
       "      <td>80921865</td>\n",
       "      <td>RJVMG1Y7QSF8</td>\n",
       "      <td>HUMAN GEO GROUP LLC  THE</td>\n",
       "      <td>USA</td>\n",
       "      <td>UNITED STATES</td>\n",
       "      <td>4350 N FAIRFAX DR STE 95</td>\n",
       "      <td>nan</td>\n",
       "      <td>ARLINGTON</td>\n",
       "      <td>ARLINGTON</td>\n",
       "      <td>VA</td>\n",
       "      <td>VIRGINIA</td>\n",
       "      <td>222031673</td>\n",
       "      <td>8</td>\n",
       "      <td>7038881247</td>\n",
       "      <td>7038881247</td>\n",
       "    </tr>\n",
       "    <tr>\n",
       "      <th>8</th>\n",
       "      <td>197468465</td>\n",
       "      <td>EMHFNF3LKVM6</td>\n",
       "      <td>FFF ENTERPRISES, INC</td>\n",
       "      <td>nan</td>\n",
       "      <td>197468465</td>\n",
       "      <td>EMHFNF3LKVM6</td>\n",
       "      <td>FFF ENTERPRISES  INC</td>\n",
       "      <td>USA</td>\n",
       "      <td>UNITED STATES</td>\n",
       "      <td>44000 WINCHESTER RD</td>\n",
       "      <td>nan</td>\n",
       "      <td>TEMECULA</td>\n",
       "      <td>RIVERSIDE</td>\n",
       "      <td>CA</td>\n",
       "      <td>CALIFORNIA</td>\n",
       "      <td>925902578</td>\n",
       "      <td>5</td>\n",
       "      <td>95129625</td>\n",
       "      <td>9512404474</td>\n",
       "    </tr>\n",
       "    <tr>\n",
       "      <th>11</th>\n",
       "      <td>4449307</td>\n",
       "      <td>KNJBKL6JH7F6</td>\n",
       "      <td>UNI-TECH COLLISION REPAIR, LLC</td>\n",
       "      <td>nan</td>\n",
       "      <td>4449307</td>\n",
       "      <td>KNJBKL6JH7F6</td>\n",
       "      <td>UNITECH COLLISION REPAIR</td>\n",
       "      <td>USA</td>\n",
       "      <td>UNITED STATES</td>\n",
       "      <td>1994 MORELAND PKWY STE 2A</td>\n",
       "      <td>nan</td>\n",
       "      <td>ANNAPOLIS</td>\n",
       "      <td>ANNE ARUNDEL</td>\n",
       "      <td>MD</td>\n",
       "      <td>MARYLAND</td>\n",
       "      <td>214013169</td>\n",
       "      <td>3</td>\n",
       "      <td>41099091</td>\n",
       "      <td>4109909101</td>\n",
       "    </tr>\n",
       "    <tr>\n",
       "      <th>23</th>\n",
       "      <td>25734595</td>\n",
       "      <td>YRZBPY8N5884</td>\n",
       "      <td>LESIEUR APPRAISALS</td>\n",
       "      <td>nan</td>\n",
       "      <td>25734595</td>\n",
       "      <td>YRZBPY8N5884</td>\n",
       "      <td>LESIEUR APPRAISALS</td>\n",
       "      <td>USA</td>\n",
       "      <td>UNITED STATES</td>\n",
       "      <td>301 COTTONWOOD DR</td>\n",
       "      <td>nan</td>\n",
       "      <td>LAKE HAVASU CITY</td>\n",
       "      <td>MOHAVE</td>\n",
       "      <td>AZ</td>\n",
       "      <td>ARIZONA</td>\n",
       "      <td>864037482</td>\n",
       "      <td>4</td>\n",
       "      <td>928257184</td>\n",
       "      <td>8664157595</td>\n",
       "    </tr>\n",
       "    <tr>\n",
       "      <th>58</th>\n",
       "      <td>168544281</td>\n",
       "      <td>PEQJVJENSYA4</td>\n",
       "      <td>HISTOSERV INC</td>\n",
       "      <td>nan</td>\n",
       "      <td>168544281</td>\n",
       "      <td>PEQJVJENSYA4</td>\n",
       "      <td>HISTOSERV INC</td>\n",
       "      <td>USA</td>\n",
       "      <td>UNITED STATES</td>\n",
       "      <td>19526 AMARANTH DR</td>\n",
       "      <td>nan</td>\n",
       "      <td>GERMANTOWN</td>\n",
       "      <td>MONTGOMERY</td>\n",
       "      <td>MD</td>\n",
       "      <td>MARYLAND</td>\n",
       "      <td>208741202</td>\n",
       "      <td>6</td>\n",
       "      <td>30197226</td>\n",
       "      <td>3019722627</td>\n",
       "    </tr>\n",
       "  </tbody>\n",
       "</table>\n",
       "</div>"
      ],
      "text/plain": [
       "   recipient_duns recipient_uei  ... recipient_phone_number recipient_fax_number\n",
       "5       963765453  E18HG4M6MA86  ...             7038881247           7038881247\n",
       "8       197468465  EMHFNF3LKVM6  ...               95129625           9512404474\n",
       "11        4449307  KNJBKL6JH7F6  ...               41099091           4109909101\n",
       "23       25734595  YRZBPY8N5884  ...              928257184           8664157595\n",
       "58      168544281  PEQJVJENSYA4  ...               30197226           3019722627\n",
       "\n",
       "[5 rows x 19 columns]"
      ]
     },
     "execution_count": 27,
     "metadata": {},
     "output_type": "execute_result"
    }
   ],
   "source": [
    "final.head()"
   ]
  },
  {
   "cell_type": "code",
   "execution_count": 26,
   "metadata": {},
   "outputs": [
    {
     "name": "stdout",
     "output_type": "stream",
     "text": [
      "Final records for recipients in ./data/FY2021_All_Contracts_Full_20220110_4.csv\n",
      "is 49822 compared to DUNs 49826 total\n"
     ]
    }
   ],
   "source": [
    "print(f'Final records for recipients in {file_name}\\nis {len(final)} compared to DUNs {duns_count} total')"
   ]
  },
  {
   "cell_type": "markdown",
   "metadata": {},
   "source": [
    "### Next steps and comments\n",
    "- From here, we can join this clean recipient data back into our larger dataset to use for further analysis. Having clean records to join and uniquely indentify recipents will allows us to pull toegether aggregate metrics using a resovled entity, giving us a more complete picture of what a given entity looks like in a dataset.\n",
    "- One weakness of this approach is it's reliance on DUNs number. If a company were to misreport their DUNs or have an upstream data entry mistake where the DUNs was misassigned to a company, this approach would falter since it uses DUNs to group values together prior to matching.\n",
    "- We also lose the records that get macthed upon but more work can be done to either concatinate them into multi value fields in the final result ..."
   ]
  },
  {
   "cell_type": "code",
   "execution_count": null,
   "metadata": {},
   "outputs": [],
   "source": []
  }
 ],
 "metadata": {
  "kernelspec": {
   "display_name": "Python 3 (ipykernel)",
   "language": "python",
   "name": "python3"
  },
  "language_info": {
   "codemirror_mode": {
    "name": "ipython",
    "version": 3
   },
   "file_extension": ".py",
   "mimetype": "text/x-python",
   "name": "python",
   "nbconvert_exporter": "python",
   "pygments_lexer": "ipython3",
   "version": "3.9.9"
  }
 },
 "nbformat": 4,
 "nbformat_minor": 1
}